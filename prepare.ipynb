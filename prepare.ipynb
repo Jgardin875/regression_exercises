{
 "cells": [
  {
   "cell_type": "code",
   "execution_count": 2,
   "id": "d86ca2bb",
   "metadata": {},
   "outputs": [
    {
     "name": "stdout",
     "output_type": "stream",
     "text": [
      "df, train, validate, test = wrangle1.wrangle_zillow()\n"
     ]
    }
   ],
   "source": [
    "import pandas as pd\n",
    "import numpy as np\n",
    "import seaborn as sns\n",
    "import matplotlib.pyplot as plt\n",
    "\n",
    "from sklearn.preprocessing import MinMaxScaler, StandardScaler, RobustScaler, QuantileTransformer\n",
    "\n",
    "import env\n",
    "import wrangle1"
   ]
  },
  {
   "cell_type": "code",
   "execution_count": 3,
   "id": "17141027",
   "metadata": {},
   "outputs": [],
   "source": [
    "df, train, validate, test = wrangle1.wrangle_zillow()"
   ]
  },
  {
   "cell_type": "code",
   "execution_count": 5,
   "id": "cfe335dc",
   "metadata": {},
   "outputs": [],
   "source": [
    "# used class model, added comments to prove understanding"
   ]
  },
  {
   "cell_type": "code",
   "execution_count": 6,
   "id": "fa83c511",
   "metadata": {},
   "outputs": [],
   "source": [
    "def scale_data(train, validate, test):\n",
    "    #pick which columns to scale\n",
    "    scale_columns = ['bedroomcnt', 'bathroomcnt', 'calculatedfinishedsquarefeet']\n",
    "    #make copy so that the original values are unaffected\n",
    "    train_scaled = train.copy()\n",
    "    validate_scaled = validate.copy()\n",
    "    test_scaled = test.copy()\n",
    "    #define test\n",
    "    mms = MinMaxScaler()\n",
    "    #fit test to train only \n",
    "    mms.fit(train[scale_columns])\n",
    "    #copies and selected columns = Min-Max transformed data of same selected columns. Used original data for transform in the equation, but the changes are not permanent to the original dataset. if you pull it up it'll be fine\n",
    "    train_scaled[scale_columns] = mms.transform(train[scale_columns])\n",
    "    validate_scaled[scale_columns] = mms.transform(validate[scale_columns])\n",
    "    test_scaled[scale_columns] = mms.transform(test[scale_columns])\n",
    "    \n",
    "    return train_scaled, validate_scaled, test_scaled"
   ]
  },
  {
   "cell_type": "code",
   "execution_count": 7,
   "id": "5adea1fd",
   "metadata": {},
   "outputs": [],
   "source": [
    "train_s, validate_s, test_s = scale_data(train, validate, test)"
   ]
  },
  {
   "cell_type": "code",
   "execution_count": 8,
   "id": "8f5797b9",
   "metadata": {},
   "outputs": [],
   "source": [
    "x_train_s = train_s.drop(columns=['taxvaluedollarcnt'])\n",
    "y_train_s = train_s.taxvaluedollarcnt\n",
    "\n",
    "x_validate_s = validate_s.drop(columns=['taxvaluedollarcnt'])\n",
    "y_validate_s = validate_s.taxvaluedollarcnt\n",
    "\n",
    "x_test_s = test_s.drop(columns=['taxvaluedollarcnt'])\n",
    "y_test_s = test_s.taxvaluedollarcnt"
   ]
  },
  {
   "cell_type": "code",
   "execution_count": null,
   "id": "d3a00b37",
   "metadata": {},
   "outputs": [],
   "source": [
    "# original"
   ]
  },
  {
   "cell_type": "code",
   "execution_count": 10,
   "id": "a7f188e6",
   "metadata": {
    "scrolled": true
   },
   "outputs": [
    {
     "data": {
      "text/html": [
       "<div>\n",
       "<style scoped>\n",
       "    .dataframe tbody tr th:only-of-type {\n",
       "        vertical-align: middle;\n",
       "    }\n",
       "\n",
       "    .dataframe tbody tr th {\n",
       "        vertical-align: top;\n",
       "    }\n",
       "\n",
       "    .dataframe thead th {\n",
       "        text-align: right;\n",
       "    }\n",
       "</style>\n",
       "<table border=\"1\" class=\"dataframe\">\n",
       "  <thead>\n",
       "    <tr style=\"text-align: right;\">\n",
       "      <th></th>\n",
       "      <th>bedroomcnt</th>\n",
       "      <th>bathroomcnt</th>\n",
       "      <th>calculatedfinishedsquarefeet</th>\n",
       "      <th>taxvaluedollarcnt</th>\n",
       "      <th>yearbuilt</th>\n",
       "      <th>fips</th>\n",
       "    </tr>\n",
       "  </thead>\n",
       "  <tbody>\n",
       "    <tr>\n",
       "      <th>415076</th>\n",
       "      <td>3.0</td>\n",
       "      <td>2.0</td>\n",
       "      <td>1412.0</td>\n",
       "      <td>60678.0</td>\n",
       "      <td>1971.0</td>\n",
       "      <td>6037.0</td>\n",
       "    </tr>\n",
       "    <tr>\n",
       "      <th>396128</th>\n",
       "      <td>4.0</td>\n",
       "      <td>2.0</td>\n",
       "      <td>1765.0</td>\n",
       "      <td>337206.0</td>\n",
       "      <td>1965.0</td>\n",
       "      <td>6059.0</td>\n",
       "    </tr>\n",
       "    <tr>\n",
       "      <th>51748</th>\n",
       "      <td>3.0</td>\n",
       "      <td>1.5</td>\n",
       "      <td>1250.0</td>\n",
       "      <td>51854.0</td>\n",
       "      <td>1955.0</td>\n",
       "      <td>6059.0</td>\n",
       "    </tr>\n",
       "    <tr>\n",
       "      <th>1172803</th>\n",
       "      <td>3.0</td>\n",
       "      <td>2.5</td>\n",
       "      <td>2628.0</td>\n",
       "      <td>800380.0</td>\n",
       "      <td>1987.0</td>\n",
       "      <td>6059.0</td>\n",
       "    </tr>\n",
       "    <tr>\n",
       "      <th>1341986</th>\n",
       "      <td>4.0</td>\n",
       "      <td>3.0</td>\n",
       "      <td>2756.0</td>\n",
       "      <td>852809.0</td>\n",
       "      <td>1990.0</td>\n",
       "      <td>6037.0</td>\n",
       "    </tr>\n",
       "  </tbody>\n",
       "</table>\n",
       "</div>"
      ],
      "text/plain": [
       "         bedroomcnt  bathroomcnt  calculatedfinishedsquarefeet  \\\n",
       "415076          3.0          2.0                        1412.0   \n",
       "396128          4.0          2.0                        1765.0   \n",
       "51748           3.0          1.5                        1250.0   \n",
       "1172803         3.0          2.5                        2628.0   \n",
       "1341986         4.0          3.0                        2756.0   \n",
       "\n",
       "         taxvaluedollarcnt  yearbuilt    fips  \n",
       "415076             60678.0     1971.0  6037.0  \n",
       "396128            337206.0     1965.0  6059.0  \n",
       "51748              51854.0     1955.0  6059.0  \n",
       "1172803           800380.0     1987.0  6059.0  \n",
       "1341986           852809.0     1990.0  6037.0  "
      ]
     },
     "execution_count": 10,
     "metadata": {},
     "output_type": "execute_result"
    }
   ],
   "source": [
    "train.head()"
   ]
  },
  {
   "cell_type": "code",
   "execution_count": null,
   "id": "324fa027",
   "metadata": {},
   "outputs": [],
   "source": [
    "#transformed"
   ]
  },
  {
   "cell_type": "code",
   "execution_count": 12,
   "id": "d557349d",
   "metadata": {
    "scrolled": true
   },
   "outputs": [
    {
     "data": {
      "text/html": [
       "<div>\n",
       "<style scoped>\n",
       "    .dataframe tbody tr th:only-of-type {\n",
       "        vertical-align: middle;\n",
       "    }\n",
       "\n",
       "    .dataframe tbody tr th {\n",
       "        vertical-align: top;\n",
       "    }\n",
       "\n",
       "    .dataframe thead th {\n",
       "        text-align: right;\n",
       "    }\n",
       "</style>\n",
       "<table border=\"1\" class=\"dataframe\">\n",
       "  <thead>\n",
       "    <tr style=\"text-align: right;\">\n",
       "      <th></th>\n",
       "      <th>bedroomcnt</th>\n",
       "      <th>bathroomcnt</th>\n",
       "      <th>calculatedfinishedsquarefeet</th>\n",
       "      <th>yearbuilt</th>\n",
       "      <th>fips</th>\n",
       "    </tr>\n",
       "  </thead>\n",
       "  <tbody>\n",
       "    <tr>\n",
       "      <th>415076</th>\n",
       "      <td>0.500000</td>\n",
       "      <td>0.307692</td>\n",
       "      <td>0.081973</td>\n",
       "      <td>1971.0</td>\n",
       "      <td>6037.0</td>\n",
       "    </tr>\n",
       "    <tr>\n",
       "      <th>396128</th>\n",
       "      <td>0.666667</td>\n",
       "      <td>0.307692</td>\n",
       "      <td>0.102481</td>\n",
       "      <td>1965.0</td>\n",
       "      <td>6059.0</td>\n",
       "    </tr>\n",
       "    <tr>\n",
       "      <th>51748</th>\n",
       "      <td>0.500000</td>\n",
       "      <td>0.230769</td>\n",
       "      <td>0.072561</td>\n",
       "      <td>1955.0</td>\n",
       "      <td>6059.0</td>\n",
       "    </tr>\n",
       "    <tr>\n",
       "      <th>1172803</th>\n",
       "      <td>0.500000</td>\n",
       "      <td>0.384615</td>\n",
       "      <td>0.152617</td>\n",
       "      <td>1987.0</td>\n",
       "      <td>6059.0</td>\n",
       "    </tr>\n",
       "    <tr>\n",
       "      <th>1341986</th>\n",
       "      <td>0.666667</td>\n",
       "      <td>0.461538</td>\n",
       "      <td>0.160053</td>\n",
       "      <td>1990.0</td>\n",
       "      <td>6037.0</td>\n",
       "    </tr>\n",
       "  </tbody>\n",
       "</table>\n",
       "</div>"
      ],
      "text/plain": [
       "         bedroomcnt  bathroomcnt  calculatedfinishedsquarefeet  yearbuilt  \\\n",
       "415076     0.500000     0.307692                      0.081973     1971.0   \n",
       "396128     0.666667     0.307692                      0.102481     1965.0   \n",
       "51748      0.500000     0.230769                      0.072561     1955.0   \n",
       "1172803    0.500000     0.384615                      0.152617     1987.0   \n",
       "1341986    0.666667     0.461538                      0.160053     1990.0   \n",
       "\n",
       "           fips  \n",
       "415076   6037.0  \n",
       "396128   6059.0  \n",
       "51748    6059.0  \n",
       "1172803  6059.0  \n",
       "1341986  6037.0  "
      ]
     },
     "execution_count": 12,
     "metadata": {},
     "output_type": "execute_result"
    }
   ],
   "source": [
    "x_train_s.head()"
   ]
  },
  {
   "cell_type": "code",
   "execution_count": null,
   "id": "e29e61e8",
   "metadata": {},
   "outputs": [],
   "source": []
  }
 ],
 "metadata": {
  "kernelspec": {
   "display_name": "Python 3 (ipykernel)",
   "language": "python",
   "name": "python3"
  },
  "language_info": {
   "codemirror_mode": {
    "name": "ipython",
    "version": 3
   },
   "file_extension": ".py",
   "mimetype": "text/x-python",
   "name": "python",
   "nbconvert_exporter": "python",
   "pygments_lexer": "ipython3",
   "version": "3.9.12"
  }
 },
 "nbformat": 4,
 "nbformat_minor": 5
}
