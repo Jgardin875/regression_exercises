{
 "cells": [
  {
   "cell_type": "code",
   "execution_count": 50,
   "id": "22cd0f0b",
   "metadata": {},
   "outputs": [],
   "source": [
    "import pandas as pd\n",
    "import numpy as np\n",
    "import seaborn as sns\n",
    "import matplotlib.pyplot as plt\n",
    "from scipy import stats\n",
    "from sklearn.metrics import mean_squared_error, r2_score\n",
    "\n",
    "from sklearn.linear_model import LinearRegression\n",
    "from sklearn.feature_selection import f_regression \n",
    "from math import sqrt\n",
    "import seaborn as sns\n",
    "import warnings\n",
    "warnings.filterwarnings('ignore')\n",
    "\n",
    "import env\n",
    "import wrangle1"
   ]
  },
  {
   "cell_type": "markdown",
   "id": "81d9dfe5",
   "metadata": {},
   "source": [
    "# 1\n",
    "Load your zillow dataset."
   ]
  },
  {
   "cell_type": "code",
   "execution_count": 51,
   "id": "207fd52b",
   "metadata": {},
   "outputs": [],
   "source": [
    "df, train, validate, test = wrangle1.wrangle_zillow()\n"
   ]
  },
  {
   "cell_type": "code",
   "execution_count": 52,
   "id": "5956043e",
   "metadata": {},
   "outputs": [
    {
     "name": "stdout",
     "output_type": "stream",
     "text": [
      "<class 'pandas.core.frame.DataFrame'>\n",
      "Int64Index: 2100070 entries, 4 to 2152862\n",
      "Data columns (total 7 columns):\n",
      " #   Column                        Dtype  \n",
      "---  ------                        -----  \n",
      " 0   bedroomcnt                    float64\n",
      " 1   bathroomcnt                   float64\n",
      " 2   calculatedfinishedsquarefeet  float64\n",
      " 3   taxvaluedollarcnt             float64\n",
      " 4   yearbuilt                     float64\n",
      " 5   taxamount                     float64\n",
      " 6   fips                          float64\n",
      "dtypes: float64(7)\n",
      "memory usage: 128.2 MB\n"
     ]
    }
   ],
   "source": [
    "df.info()"
   ]
  },
  {
   "cell_type": "markdown",
   "id": "5034f675",
   "metadata": {},
   "source": [
    "# 2\n",
    "Fit a linear regression model (ordinary least squares) and compute yhat, predictions of taxvaluedollarcnt using only calfulatedfinishedsqft.\n",
    "\n",
    "Here is some sample code to get you started:\n",
    "from sklearn.linear_model import LinearRegression\n",
    "\n",
    " assuming X and y are already defined\\\n",
    "model = LinearRegression().fit(X, y)\\\n",
    "predictions = model.predict(X)"
   ]
  },
  {
   "cell_type": "code",
   "execution_count": 5,
   "id": "d06e4842",
   "metadata": {},
   "outputs": [],
   "source": [
    "x_train = df.calculatedfinishedsquarefeet"
   ]
  },
  {
   "cell_type": "code",
   "execution_count": 6,
   "id": "6167e127",
   "metadata": {},
   "outputs": [
    {
     "data": {
      "text/plain": [
       "(2100070,)"
      ]
     },
     "execution_count": 6,
     "metadata": {},
     "output_type": "execute_result"
    }
   ],
   "source": [
    "x_train.shape"
   ]
  },
  {
   "cell_type": "code",
   "execution_count": 7,
   "id": "fe107ad1",
   "metadata": {},
   "outputs": [],
   "source": [
    "y_train = df.taxvaluedollarcnt"
   ]
  },
  {
   "cell_type": "code",
   "execution_count": 8,
   "id": "eac0d090",
   "metadata": {},
   "outputs": [
    {
     "data": {
      "text/plain": [
       "(2100070,)"
      ]
     },
     "execution_count": 8,
     "metadata": {},
     "output_type": "execute_result"
    }
   ],
   "source": [
    "y_train.shape"
   ]
  },
  {
   "cell_type": "markdown",
   "id": "59680118",
   "metadata": {},
   "source": [
    "#### model = LinearRegression().fit(x_train, y_train)\n",
    "\n",
    "ValueError: Expected 2D array, got 1D array instead:\n",
    "array=[3633. 1620. 2077. ... 3127. 1974. 2110.].\n",
    "Reshape your data either using array.reshape(-1, 1) if your data has a single feature or array.reshape(1, -1) if it contains a single sample.\n"
   ]
  },
  {
   "cell_type": "code",
   "execution_count": 9,
   "id": "99a9a850",
   "metadata": {},
   "outputs": [],
   "source": [
    "# so i tried that"
   ]
  },
  {
   "cell_type": "code",
   "execution_count": 10,
   "id": "8d4ceda4",
   "metadata": {},
   "outputs": [],
   "source": [
    "#x_train= x_train.reshape(1, -1)\n"
   ]
  },
  {
   "cell_type": "markdown",
   "id": "d8ef7908",
   "metadata": {},
   "source": [
    "and got: AttributeError: 'Series' object has no attribute 'reshape'"
   ]
  },
  {
   "cell_type": "markdown",
   "id": "dfb69f17",
   "metadata": {},
   "source": [
    "#apparently:\n",
    "\n",
    "This extracts a numpy array with the values of your pandas Series object and then reshapes it to a 2D array.\n",
    "\n",
    "The reason you need to do this is that pandas Series objects are by design one dimensional. Another solution if you would like to stay within the pandas library would be to convert the Series to a DataFrame which would then be 2D:"
   ]
  },
  {
   "cell_type": "code",
   "execution_count": 11,
   "id": "453839d8",
   "metadata": {},
   "outputs": [],
   "source": [
    "x_train= x_train.values.reshape(-1, 1)\n",
    "#x_validate= x_validate.values.reshape(-1, 1)\n",
    "#x_test = x_test.values.reshape(-1, 1)"
   ]
  },
  {
   "cell_type": "code",
   "execution_count": 12,
   "id": "7e64cad7",
   "metadata": {},
   "outputs": [],
   "source": [
    "y_train= y_train.values.reshape(-1, 1)\n",
    "#y_validate= y_validate.values.reshape(-1, 1)\n",
    "#y_test = y_test.values.reshape(-1, 1)"
   ]
  },
  {
   "cell_type": "code",
   "execution_count": 13,
   "id": "91a5e1d0",
   "metadata": {},
   "outputs": [],
   "source": [
    "model = LinearRegression().fit(x_train, y_train)"
   ]
  },
  {
   "cell_type": "code",
   "execution_count": 14,
   "id": "e36aa2c6",
   "metadata": {
    "scrolled": true
   },
   "outputs": [],
   "source": [
    "predictions = model.predict(x_train)"
   ]
  },
  {
   "cell_type": "code",
   "execution_count": 15,
   "id": "394e96e5",
   "metadata": {},
   "outputs": [],
   "source": [
    "baseline = y_train.mean()"
   ]
  },
  {
   "cell_type": "code",
   "execution_count": 16,
   "id": "b6532fb8",
   "metadata": {},
   "outputs": [
    {
     "data": {
      "image/png": "[encoded data removed]",
      "text/plain": [
       "<Figure size 432x288 with 1 Axes>"
      ]
     },
     "metadata": {
      "needs_background": "light"
     },
     "output_type": "display_data"
    }
   ],
   "source": [
    "plt.scatter(x_train, y_train)\n",
    "plt.axhline(baseline, ls = ':')\n",
    "plt.plot(x_train, predictions)\n",
    "#plt.xlabel('x = exam1 score')\n",
    "#plt.ylabel('y = final score')\n",
    "plt.title('OLS linear model');"
   ]
  },
  {
   "cell_type": "code",
   "execution_count": 17,
   "id": "03cfb962",
   "metadata": {},
   "outputs": [],
   "source": [
    "#need to filter outlieres more effectively"
   ]
  },
  {
   "cell_type": "code",
   "execution_count": 18,
   "id": "4a6e1559",
   "metadata": {},
   "outputs": [],
   "source": [
    "df_filtered = np.concatenate((x_train, y_train), axis=1)"
   ]
  },
  {
   "cell_type": "code",
   "execution_count": 19,
   "id": "93b54a55",
   "metadata": {},
   "outputs": [
    {
     "data": {
      "text/plain": [
       "array([[  3633., 296425.],\n",
       "       [  1620., 847770.],\n",
       "       [  2077., 646760.],\n",
       "       ...,\n",
       "       [  3127., 536061.],\n",
       "       [  1974., 424353.],\n",
       "       [  2110., 554009.]])"
      ]
     },
     "execution_count": 19,
     "metadata": {},
     "output_type": "execute_result"
    }
   ],
   "source": [
    "df_filtered"
   ]
  },
  {
   "cell_type": "code",
   "execution_count": 20,
   "id": "6a52a214",
   "metadata": {
    "scrolled": true
   },
   "outputs": [],
   "source": [
    "df = pd.DataFrame(df_filtered, columns = ['sq_ft_train', 'dollar_train'])"
   ]
  },
  {
   "cell_type": "code",
   "execution_count": 21,
   "id": "e5818f9c",
   "metadata": {},
   "outputs": [
    {
     "data": {
      "text/html": [
       "<div>\n",
       "<style scoped>\n",
       "    .dataframe tbody tr th:only-of-type {\n",
       "        vertical-align: middle;\n",
       "    }\n",
       "\n",
       "    .dataframe tbody tr th {\n",
       "        vertical-align: top;\n",
       "    }\n",
       "\n",
       "    .dataframe thead th {\n",
       "        text-align: right;\n",
       "    }\n",
       "</style>\n",
       "<table border=\"1\" class=\"dataframe\">\n",
       "  <thead>\n",
       "    <tr style=\"text-align: right;\">\n",
       "      <th></th>\n",
       "      <th>sq_ft_train</th>\n",
       "      <th>dollar_train</th>\n",
       "    </tr>\n",
       "  </thead>\n",
       "  <tbody>\n",
       "    <tr>\n",
       "      <th>0</th>\n",
       "      <td>3633.0</td>\n",
       "      <td>296425.0</td>\n",
       "    </tr>\n",
       "    <tr>\n",
       "      <th>1</th>\n",
       "      <td>1620.0</td>\n",
       "      <td>847770.0</td>\n",
       "    </tr>\n",
       "    <tr>\n",
       "      <th>2</th>\n",
       "      <td>2077.0</td>\n",
       "      <td>646760.0</td>\n",
       "    </tr>\n",
       "    <tr>\n",
       "      <th>3</th>\n",
       "      <td>1200.0</td>\n",
       "      <td>5328.0</td>\n",
       "    </tr>\n",
       "    <tr>\n",
       "      <th>4</th>\n",
       "      <td>171.0</td>\n",
       "      <td>6920.0</td>\n",
       "    </tr>\n",
       "    <tr>\n",
       "      <th>...</th>\n",
       "      <td>...</td>\n",
       "      <td>...</td>\n",
       "    </tr>\n",
       "    <tr>\n",
       "      <th>2100065</th>\n",
       "      <td>4375.0</td>\n",
       "      <td>422400.0</td>\n",
       "    </tr>\n",
       "    <tr>\n",
       "      <th>2100066</th>\n",
       "      <td>2262.0</td>\n",
       "      <td>960756.0</td>\n",
       "    </tr>\n",
       "    <tr>\n",
       "      <th>2100067</th>\n",
       "      <td>3127.0</td>\n",
       "      <td>536061.0</td>\n",
       "    </tr>\n",
       "    <tr>\n",
       "      <th>2100068</th>\n",
       "      <td>1974.0</td>\n",
       "      <td>424353.0</td>\n",
       "    </tr>\n",
       "    <tr>\n",
       "      <th>2100069</th>\n",
       "      <td>2110.0</td>\n",
       "      <td>554009.0</td>\n",
       "    </tr>\n",
       "  </tbody>\n",
       "</table>\n",
       "<p>2100070 rows × 2 columns</p>\n",
       "</div>"
      ],
      "text/plain": [
       "         sq_ft_train  dollar_train\n",
       "0             3633.0      296425.0\n",
       "1             1620.0      847770.0\n",
       "2             2077.0      646760.0\n",
       "3             1200.0        5328.0\n",
       "4              171.0        6920.0\n",
       "...              ...           ...\n",
       "2100065       4375.0      422400.0\n",
       "2100066       2262.0      960756.0\n",
       "2100067       3127.0      536061.0\n",
       "2100068       1974.0      424353.0\n",
       "2100069       2110.0      554009.0\n",
       "\n",
       "[2100070 rows x 2 columns]"
      ]
     },
     "execution_count": 21,
     "metadata": {},
     "output_type": "execute_result"
    }
   ],
   "source": [
    "df"
   ]
  },
  {
   "cell_type": "code",
   "execution_count": 22,
   "id": "d0b63a60",
   "metadata": {},
   "outputs": [
    {
     "data": {
      "text/plain": [
       "1434565    19460.0\n",
       "1249857    18708.0\n",
       "1995093    17873.0\n",
       "441189     17245.0\n",
       "1376029    17214.0\n",
       "            ...   \n",
       "1245151        1.0\n",
       "56957          1.0\n",
       "1849325        1.0\n",
       "1021165        1.0\n",
       "1326073        1.0\n",
       "Name: sq_ft_train, Length: 2100070, dtype: float64"
      ]
     },
     "execution_count": 22,
     "metadata": {},
     "output_type": "execute_result"
    }
   ],
   "source": [
    "df.sq_ft_train.sort_values(ascending = False)"
   ]
  },
  {
   "cell_type": "code",
   "execution_count": 23,
   "id": "4b2df9d4",
   "metadata": {},
   "outputs": [],
   "source": [
    "#I'm gonna drop the first two. They are outliers."
   ]
  },
  {
   "cell_type": "code",
   "execution_count": 24,
   "id": "9b2d60d7",
   "metadata": {},
   "outputs": [],
   "source": [
    "df = df[df.sq_ft_train < 70_000]"
   ]
  },
  {
   "cell_type": "markdown",
   "id": "5225ce92",
   "metadata": {},
   "source": [
    "# Try agian, 'this time without the oops' (outliers)"
   ]
  },
  {
   "cell_type": "code",
   "execution_count": 25,
   "id": "263f9989",
   "metadata": {},
   "outputs": [],
   "source": [
    "x_train = df.sq_ft_train"
   ]
  },
  {
   "cell_type": "code",
   "execution_count": 26,
   "id": "3cd9d20e",
   "metadata": {},
   "outputs": [],
   "source": [
    "x_train= x_train.values.reshape(-1, 1)"
   ]
  },
  {
   "cell_type": "code",
   "execution_count": 27,
   "id": "537a7d56",
   "metadata": {},
   "outputs": [],
   "source": [
    "y_train = df.dollar_train"
   ]
  },
  {
   "cell_type": "code",
   "execution_count": 28,
   "id": "18e90b66",
   "metadata": {},
   "outputs": [],
   "source": [
    "y_train= y_train.values.reshape(-1, 1)"
   ]
  },
  {
   "cell_type": "code",
   "execution_count": 29,
   "id": "1707bc59",
   "metadata": {},
   "outputs": [],
   "source": [
    "model = LinearRegression().fit(x_train, y_train)"
   ]
  },
  {
   "cell_type": "code",
   "execution_count": 30,
   "id": "7087eecf",
   "metadata": {
    "scrolled": true
   },
   "outputs": [],
   "source": [
    "predictions = model.predict(x_train)"
   ]
  },
  {
   "cell_type": "code",
   "execution_count": 31,
   "id": "b4b294ec",
   "metadata": {},
   "outputs": [],
   "source": [
    "baseline = y_train.mean()"
   ]
  },
  {
   "cell_type": "code",
   "execution_count": null,
   "id": "1fd6b9fc",
   "metadata": {},
   "outputs": [],
   "source": []
  },
  {
   "cell_type": "code",
   "execution_count": 32,
   "id": "1e1b4c71",
   "metadata": {},
   "outputs": [
    {
     "data": {
      "text/plain": [
       "[<matplotlib.lines.Line2D at 0x14d6f9640>]"
      ]
     },
     "execution_count": 32,
     "metadata": {},
     "output_type": "execute_result"
    },
    {
     "data": {
      "image/png": "[encoded data removed]",
      "text/plain": [
       "<Figure size 432x288 with 1 Axes>"
      ]
     },
     "metadata": {
      "needs_background": "light"
     },
     "output_type": "display_data"
    }
   ],
   "source": [
    "plt.scatter(x_train, y_train)\n",
    "plt.axhline(baseline, ls = ':')\n",
    "plt.plot(x_train, predictions)\n",
    "#plt.xlabel('x = exam1 score')\n",
    "#plt.ylabel('y = final score')\n",
    "#plt.title('OLS linear model');"
   ]
  },
  {
   "cell_type": "markdown",
   "id": "c25bf4be",
   "metadata": {},
   "source": [
    "# 3\n",
    "Plot the residuals for the linear regression model that you made."
   ]
  },
  {
   "cell_type": "code",
   "execution_count": 33,
   "id": "7575d756",
   "metadata": {},
   "outputs": [],
   "source": [
    "df['yhat'] = predictions\n",
    "df['baseline'] = baseline"
   ]
  },
  {
   "cell_type": "code",
   "execution_count": 34,
   "id": "39a48acc",
   "metadata": {},
   "outputs": [],
   "source": [
    "# residual = actual - predicted\n",
    "df['residual'] = df.dollar_train - df.yhat\n",
    "df['baseline_residual'] = df.dollar_train - df.baseline"
   ]
  },
  {
   "cell_type": "code",
   "execution_count": 35,
   "id": "4c19de11",
   "metadata": {},
   "outputs": [
    {
     "data": {
      "text/html": [
       "<div>\n",
       "<style scoped>\n",
       "    .dataframe tbody tr th:only-of-type {\n",
       "        vertical-align: middle;\n",
       "    }\n",
       "\n",
       "    .dataframe tbody tr th {\n",
       "        vertical-align: top;\n",
       "    }\n",
       "\n",
       "    .dataframe thead th {\n",
       "        text-align: right;\n",
       "    }\n",
       "</style>\n",
       "<table border=\"1\" class=\"dataframe\">\n",
       "  <thead>\n",
       "    <tr style=\"text-align: right;\">\n",
       "      <th></th>\n",
       "      <th>sq_ft_train</th>\n",
       "      <th>dollar_train</th>\n",
       "      <th>yhat</th>\n",
       "      <th>baseline</th>\n",
       "      <th>residual</th>\n",
       "      <th>baseline_residual</th>\n",
       "    </tr>\n",
       "  </thead>\n",
       "  <tbody>\n",
       "    <tr>\n",
       "      <th>0</th>\n",
       "      <td>3633.0</td>\n",
       "      <td>296425.0</td>\n",
       "      <td>845312.14</td>\n",
       "      <td>403136.51</td>\n",
       "      <td>-548887.14</td>\n",
       "      <td>-106711.51</td>\n",
       "    </tr>\n",
       "    <tr>\n",
       "      <th>1</th>\n",
       "      <td>1620.0</td>\n",
       "      <td>847770.0</td>\n",
       "      <td>359035.16</td>\n",
       "      <td>403136.51</td>\n",
       "      <td>488734.84</td>\n",
       "      <td>444633.49</td>\n",
       "    </tr>\n",
       "    <tr>\n",
       "      <th>2</th>\n",
       "      <td>2077.0</td>\n",
       "      <td>646760.0</td>\n",
       "      <td>469431.87</td>\n",
       "      <td>403136.51</td>\n",
       "      <td>177328.13</td>\n",
       "      <td>243623.49</td>\n",
       "    </tr>\n",
       "    <tr>\n",
       "      <th>3</th>\n",
       "      <td>1200.0</td>\n",
       "      <td>5328.0</td>\n",
       "      <td>257576.48</td>\n",
       "      <td>403136.51</td>\n",
       "      <td>-252248.48</td>\n",
       "      <td>-397808.51</td>\n",
       "    </tr>\n",
       "    <tr>\n",
       "      <th>4</th>\n",
       "      <td>171.0</td>\n",
       "      <td>6920.0</td>\n",
       "      <td>9002.70</td>\n",
       "      <td>403136.51</td>\n",
       "      <td>-2082.70</td>\n",
       "      <td>-396216.51</td>\n",
       "    </tr>\n",
       "    <tr>\n",
       "      <th>...</th>\n",
       "      <td>...</td>\n",
       "      <td>...</td>\n",
       "      <td>...</td>\n",
       "      <td>...</td>\n",
       "      <td>...</td>\n",
       "      <td>...</td>\n",
       "    </tr>\n",
       "    <tr>\n",
       "      <th>2100065</th>\n",
       "      <td>4375.0</td>\n",
       "      <td>422400.0</td>\n",
       "      <td>1024555.81</td>\n",
       "      <td>403136.51</td>\n",
       "      <td>-602155.81</td>\n",
       "      <td>19263.49</td>\n",
       "    </tr>\n",
       "    <tr>\n",
       "      <th>2100066</th>\n",
       "      <td>2262.0</td>\n",
       "      <td>960756.0</td>\n",
       "      <td>514122.01</td>\n",
       "      <td>403136.51</td>\n",
       "      <td>446633.99</td>\n",
       "      <td>557619.49</td>\n",
       "    </tr>\n",
       "    <tr>\n",
       "      <th>2100067</th>\n",
       "      <td>3127.0</td>\n",
       "      <td>536061.0</td>\n",
       "      <td>723078.58</td>\n",
       "      <td>403136.51</td>\n",
       "      <td>-187017.58</td>\n",
       "      <td>132924.49</td>\n",
       "    </tr>\n",
       "    <tr>\n",
       "      <th>2100068</th>\n",
       "      <td>1974.0</td>\n",
       "      <td>424353.0</td>\n",
       "      <td>444550.34</td>\n",
       "      <td>403136.51</td>\n",
       "      <td>-20197.34</td>\n",
       "      <td>21216.49</td>\n",
       "    </tr>\n",
       "    <tr>\n",
       "      <th>2100069</th>\n",
       "      <td>2110.0</td>\n",
       "      <td>554009.0</td>\n",
       "      <td>477403.63</td>\n",
       "      <td>403136.51</td>\n",
       "      <td>76605.37</td>\n",
       "      <td>150872.49</td>\n",
       "    </tr>\n",
       "  </tbody>\n",
       "</table>\n",
       "<p>2100070 rows × 6 columns</p>\n",
       "</div>"
      ],
      "text/plain": [
       "         sq_ft_train  dollar_train        yhat   baseline   residual  \\\n",
       "0             3633.0      296425.0   845312.14  403136.51 -548887.14   \n",
       "1             1620.0      847770.0   359035.16  403136.51  488734.84   \n",
       "2             2077.0      646760.0   469431.87  403136.51  177328.13   \n",
       "3             1200.0        5328.0   257576.48  403136.51 -252248.48   \n",
       "4              171.0        6920.0     9002.70  403136.51   -2082.70   \n",
       "...              ...           ...         ...        ...        ...   \n",
       "2100065       4375.0      422400.0  1024555.81  403136.51 -602155.81   \n",
       "2100066       2262.0      960756.0   514122.01  403136.51  446633.99   \n",
       "2100067       3127.0      536061.0   723078.58  403136.51 -187017.58   \n",
       "2100068       1974.0      424353.0   444550.34  403136.51  -20197.34   \n",
       "2100069       2110.0      554009.0   477403.63  403136.51   76605.37   \n",
       "\n",
       "         baseline_residual  \n",
       "0               -106711.51  \n",
       "1                444633.49  \n",
       "2                243623.49  \n",
       "3               -397808.51  \n",
       "4               -396216.51  \n",
       "...                    ...  \n",
       "2100065           19263.49  \n",
       "2100066          557619.49  \n",
       "2100067          132924.49  \n",
       "2100068           21216.49  \n",
       "2100069          150872.49  \n",
       "\n",
       "[2100070 rows x 6 columns]"
      ]
     },
     "execution_count": 35,
     "metadata": {},
     "output_type": "execute_result"
    }
   ],
   "source": [
    "df.round(2)"
   ]
  },
  {
   "cell_type": "code",
   "execution_count": 36,
   "id": "ff0fda24",
   "metadata": {},
   "outputs": [
    {
     "data": {
      "image/png": "[encoded data removed]",
      "text/plain": [
       "<Figure size 792x360 with 2 Axes>"
      ]
     },
     "metadata": {
      "needs_background": "light"
     },
     "output_type": "display_data"
    }
   ],
   "source": [
    "# residual plots (x vs residual)\n",
    "\n",
    "plt.figure(figsize = (11,5))\n",
    "\n",
    "plt.subplot(121)\n",
    "plt.scatter(df.sq_ft_train, df.baseline_residual)\n",
    "plt.axhline(y = 0, ls = ':')\n",
    "plt.xlabel('x')\n",
    "plt.ylabel('Residual')\n",
    "plt.title('Baseline Residuals')\n",
    "\n",
    "plt.subplot(122)\n",
    "plt.scatter(df.sq_ft_train, df.residual)\n",
    "plt.axhline(y = 0, ls = ':')\n",
    "plt.xlabel('x')\n",
    "plt.ylabel('Residual')\n",
    "plt.title('OLS model residuals');"
   ]
  },
  {
   "cell_type": "code",
   "execution_count": null,
   "id": "33fd541a",
   "metadata": {},
   "outputs": [],
   "source": []
  },
  {
   "cell_type": "markdown",
   "id": "03494d7d",
   "metadata": {},
   "source": [
    "# 4\n",
    "Calculate the sum of squared errors, explained sum of squares, total sum of squares, mean squared error, and root mean squared error for your model.\n",
    "\n",
    "# and\n",
    "\n",
    "\n",
    "# 5\n",
    "Calculate the sum of squared errors, mean squared error, and root mean squared error for the baseline model (i.e. a model that always predicts the average taxvaluedollarcnt amount)."
   ]
  },
  {
   "cell_type": "code",
   "execution_count": null,
   "id": "5000c57f",
   "metadata": {},
   "outputs": [],
   "source": []
  },
  {
   "cell_type": "code",
   "execution_count": 37,
   "id": "74abf226",
   "metadata": {},
   "outputs": [],
   "source": [
    "df['residual^2'] = df.residual**2\n",
    "df['baseline_residual^2'] = df.baseline_residual**2"
   ]
  },
  {
   "cell_type": "code",
   "execution_count": 38,
   "id": "102a9ef1",
   "metadata": {},
   "outputs": [
    {
     "name": "stdout",
     "output_type": "stream",
     "text": [
      "SSE = 144447229401601600.0\n",
      "SSE Baseline = 222606092308957952.0\n"
     ]
    }
   ],
   "source": [
    "SSE = df['residual^2'].sum()\n",
    "SSE_baseline = df['baseline_residual^2'].sum()\n",
    "\n",
    "print('SSE =', \"{:.1f}\".format(SSE))\n",
    "print(\"SSE Baseline =\", \"{:.1f}\".format(SSE_baseline))"
   ]
  },
  {
   "cell_type": "code",
   "execution_count": 39,
   "id": "2c97d7c8",
   "metadata": {},
   "outputs": [
    {
     "data": {
      "text/plain": [
       "2.2260609230895795e+17"
      ]
     },
     "execution_count": 39,
     "metadata": {},
     "output_type": "execute_result"
    }
   ],
   "source": [
    "#total sum of squares is teh SSE for baseline\n",
    "TSS = SSE_baseline\n",
    "TSS"
   ]
  },
  {
   "cell_type": "code",
   "execution_count": 40,
   "id": "7531b8c5",
   "metadata": {},
   "outputs": [
    {
     "data": {
      "text/plain": [
       "7.815886290735635e+16"
      ]
     },
     "execution_count": 40,
     "metadata": {},
     "output_type": "execute_result"
    }
   ],
   "source": [
    "# explained sum of squares\n",
    "ESS = TSS - SSE\n",
    "ESS"
   ]
  },
  {
   "cell_type": "code",
   "execution_count": null,
   "id": "5f6667b5",
   "metadata": {},
   "outputs": [],
   "source": []
  },
  {
   "cell_type": "code",
   "execution_count": 41,
   "id": "8e7164ab",
   "metadata": {
    "scrolled": true
   },
   "outputs": [
    {
     "data": {
      "text/plain": [
       "2100070"
      ]
     },
     "execution_count": 41,
     "metadata": {},
     "output_type": "execute_result"
    }
   ],
   "source": [
    "len(df)\n",
    "df.shape[0]"
   ]
  },
  {
   "cell_type": "code",
   "execution_count": 42,
   "id": "432876f3",
   "metadata": {},
   "outputs": [
    {
     "name": "stdout",
     "output_type": "stream",
     "text": [
      "MSE =  68782102216.4\n",
      "MSE baseline =  105999367787.2\n"
     ]
    }
   ],
   "source": [
    "MSE = SSE/len(df)\n",
    "MSE_baseline = SSE_baseline/len(df)\n",
    "\n",
    "print(\"MSE = \", \"{:.1f}\".format(MSE))\n",
    "print(\"MSE baseline = \", \"{:.1f}\".format(MSE_baseline))"
   ]
  },
  {
   "cell_type": "code",
   "execution_count": 43,
   "id": "41516e8f",
   "metadata": {},
   "outputs": [
    {
     "name": "stdout",
     "output_type": "stream",
     "text": [
      "RMSE =  262263.4\n",
      "RMSE baseline =  325575.4\n"
     ]
    }
   ],
   "source": [
    "RMSE = sqrt(MSE)\n",
    "RMSE_baseline =  sqrt(MSE_baseline)\n",
    "\n",
    "\n",
    "print(\"RMSE = \", \"{:.1f}\".format(RMSE))\n",
    "print(\"RMSE baseline = \", \"{:.1f}\".format(RMSE_baseline))"
   ]
  },
  {
   "cell_type": "code",
   "execution_count": null,
   "id": "472f30a3",
   "metadata": {},
   "outputs": [],
   "source": []
  },
  {
   "cell_type": "markdown",
   "id": "1ef2c96e",
   "metadata": {},
   "source": [
    "# 6\n",
    "Write python code that compares the sum of squared errors for your model against the sum of squared errors for the baseline model and outputs whether or not your model performs better than the baseline model."
   ]
  },
  {
   "cell_type": "code",
   "execution_count": 44,
   "id": "4bb3e320",
   "metadata": {},
   "outputs": [
    {
     "name": "stdout",
     "output_type": "stream",
     "text": [
      "Model perfomes better than baseline\n"
     ]
    }
   ],
   "source": [
    "if SSE < SSE_baseline:\n",
    "    print('Model perfomes better than baseline')\n",
    "else:\n",
    "    print(\"Baseline performs better than model\")"
   ]
  },
  {
   "cell_type": "markdown",
   "id": "ad47e488",
   "metadata": {},
   "source": [
    "# 7\n",
    "What is the amount of variance explained in your model?\n",
    "\n",
    "note: explained_variance_score == r2_score"
   ]
  },
  {
   "cell_type": "code",
   "execution_count": 45,
   "id": "ee64daae",
   "metadata": {},
   "outputs": [
    {
     "data": {
      "text/html": [
       "<div>\n",
       "<style scoped>\n",
       "    .dataframe tbody tr th:only-of-type {\n",
       "        vertical-align: middle;\n",
       "    }\n",
       "\n",
       "    .dataframe tbody tr th {\n",
       "        vertical-align: top;\n",
       "    }\n",
       "\n",
       "    .dataframe thead th {\n",
       "        text-align: right;\n",
       "    }\n",
       "</style>\n",
       "<table border=\"1\" class=\"dataframe\">\n",
       "  <thead>\n",
       "    <tr style=\"text-align: right;\">\n",
       "      <th></th>\n",
       "      <th>sq_ft_train</th>\n",
       "      <th>dollar_train</th>\n",
       "      <th>yhat</th>\n",
       "      <th>baseline</th>\n",
       "      <th>residual</th>\n",
       "      <th>baseline_residual</th>\n",
       "      <th>residual^2</th>\n",
       "      <th>baseline_residual^2</th>\n",
       "    </tr>\n",
       "  </thead>\n",
       "  <tbody>\n",
       "    <tr>\n",
       "      <th>0</th>\n",
       "      <td>3633.0</td>\n",
       "      <td>296425.0</td>\n",
       "      <td>845312.138183</td>\n",
       "      <td>403136.510679</td>\n",
       "      <td>-548887.138183</td>\n",
       "      <td>-106711.510679</td>\n",
       "      <td>3.012771e+11</td>\n",
       "      <td>1.138735e+10</td>\n",
       "    </tr>\n",
       "    <tr>\n",
       "      <th>1</th>\n",
       "      <td>1620.0</td>\n",
       "      <td>847770.0</td>\n",
       "      <td>359035.161342</td>\n",
       "      <td>403136.510679</td>\n",
       "      <td>488734.838658</td>\n",
       "      <td>444633.489321</td>\n",
       "      <td>2.388617e+11</td>\n",
       "      <td>1.976989e+11</td>\n",
       "    </tr>\n",
       "    <tr>\n",
       "      <th>2</th>\n",
       "      <td>2077.0</td>\n",
       "      <td>646760.0</td>\n",
       "      <td>469431.871931</td>\n",
       "      <td>403136.510679</td>\n",
       "      <td>177328.128069</td>\n",
       "      <td>243623.489321</td>\n",
       "      <td>3.144527e+10</td>\n",
       "      <td>5.935240e+10</td>\n",
       "    </tr>\n",
       "    <tr>\n",
       "      <th>3</th>\n",
       "      <td>1200.0</td>\n",
       "      <td>5328.0</td>\n",
       "      <td>257576.477649</td>\n",
       "      <td>403136.510679</td>\n",
       "      <td>-252248.477649</td>\n",
       "      <td>-397808.510679</td>\n",
       "      <td>6.362929e+10</td>\n",
       "      <td>1.582516e+11</td>\n",
       "    </tr>\n",
       "    <tr>\n",
       "      <th>4</th>\n",
       "      <td>171.0</td>\n",
       "      <td>6920.0</td>\n",
       "      <td>9002.702602</td>\n",
       "      <td>403136.510679</td>\n",
       "      <td>-2082.702602</td>\n",
       "      <td>-396216.510679</td>\n",
       "      <td>4.337650e+06</td>\n",
       "      <td>1.569875e+11</td>\n",
       "    </tr>\n",
       "  </tbody>\n",
       "</table>\n",
       "</div>"
      ],
      "text/plain": [
       "   sq_ft_train  dollar_train           yhat       baseline       residual  \\\n",
       "0       3633.0      296425.0  845312.138183  403136.510679 -548887.138183   \n",
       "1       1620.0      847770.0  359035.161342  403136.510679  488734.838658   \n",
       "2       2077.0      646760.0  469431.871931  403136.510679  177328.128069   \n",
       "3       1200.0        5328.0  257576.477649  403136.510679 -252248.477649   \n",
       "4        171.0        6920.0    9002.702602  403136.510679   -2082.702602   \n",
       "\n",
       "   baseline_residual    residual^2  baseline_residual^2  \n",
       "0     -106711.510679  3.012771e+11         1.138735e+10  \n",
       "1      444633.489321  2.388617e+11         1.976989e+11  \n",
       "2      243623.489321  3.144527e+10         5.935240e+10  \n",
       "3     -397808.510679  6.362929e+10         1.582516e+11  \n",
       "4     -396216.510679  4.337650e+06         1.569875e+11  "
      ]
     },
     "execution_count": 45,
     "metadata": {},
     "output_type": "execute_result"
    }
   ],
   "source": [
    "df.head()"
   ]
  },
  {
   "cell_type": "code",
   "execution_count": 46,
   "id": "8e80a607",
   "metadata": {},
   "outputs": [],
   "source": [
    "from sklearn.metrics import r2_score\n",
    "r2_model = r2_score(df.dollar_train, df.yhat)"
   ]
  },
  {
   "cell_type": "markdown",
   "id": "14d4598c",
   "metadata": {},
   "source": [
    "# 8\n",
    "Is your model better than the baseline model?"
   ]
  },
  {
   "cell_type": "code",
   "execution_count": 47,
   "id": "4f814035",
   "metadata": {},
   "outputs": [],
   "source": [
    "r2_base = r2_score(df.baseline, df.yhat)"
   ]
  },
  {
   "cell_type": "code",
   "execution_count": 48,
   "id": "88235ecd",
   "metadata": {},
   "outputs": [
    {
     "name": "stdout",
     "output_type": "stream",
     "text": [
      "Model perfomes better than baseline\n"
     ]
    }
   ],
   "source": [
    "if r2_model > r2_base:\n",
    "    print('Model perfomes better than baseline')\n",
    "else:\n",
    "    print(\"Baseline performs better than model\")"
   ]
  },
  {
   "cell_type": "code",
   "execution_count": null,
   "id": "1957efac",
   "metadata": {},
   "outputs": [],
   "source": []
  },
  {
   "cell_type": "markdown",
   "id": "aafc1cad",
   "metadata": {},
   "source": [
    "# 9\n",
    "\n",
    "\n",
    "Create a file named evaluate.py that contains the following functions.\n",
    "\n",
    "    plot_residuals(y, yhat): creates a residual plot\n",
    "    regression_errors(y, yhat): returns the following values:\n",
    "        sum of squared errors (SSE)\n",
    "        explained sum of squares (ESS)\n",
    "        total sum of squares (TSS)\n",
    "        mean squared error (MSE)\n",
    "        root mean squared error (RMSE)\n",
    "    baseline_mean_errors(y): computes the SSE, MSE, and RMSE for the baseline model\n",
    "    better_than_baseline(y, yhat): returns true if your model performs better than the baseline, otherwise false\n",
    "\n"
   ]
  },
  {
   "cell_type": "markdown",
   "id": "4aba1de9",
   "metadata": {},
   "source": [
    "in evaluate.py:"
   ]
  },
  {
   "cell_type": "code",
   "execution_count": 49,
   "id": "c376b762",
   "metadata": {},
   "outputs": [],
   "source": [
    "#Input: df with columns 'x' and 'y'\n",
    "\n",
    "def r2_setup(df):\n",
    "    #set up model, predictions, baseline\n",
    "    model = LinearRegression().fit(df.x, df.y)\n",
    "    predictions = model.predict(df.x)\n",
    "    baseline = df.y.mean()\n",
    "   \n",
    "    #set up columns for later\n",
    "    df['yhat'] = predictions\n",
    "    df['baseline'] = baseline\n",
    "\n",
    "    # residual = actual - predicted\n",
    "    df['residual'] = df.y - df.yhat\n",
    "    df['baseline_residual'] = df.y - df.baseline\n",
    "    \n",
    "    #sq columns\n",
    "    df['residual^2'] = df.residual**2\n",
    "    df['baseline_residual^2'] = df.baseline_residual**2\n",
    "    return df\n",
    "\n",
    "\n",
    "## !!!!!!!!this needs to be fixed!!!!!!!\n",
    "def plot_residuals(y, yhat):       \n",
    "    plt.figure(figsize = (11,5))\n",
    "    plt.subplot(121)\n",
    "    plt.scatter(df.y, df.baseline_residual)\n",
    "    plt.axhline(y = 0, ls = ':')\n",
    "    plt.xlabel('x')\n",
    "    plt.ylabel('Residual')\n",
    "    plt.title('Baseline Residuals')\n",
    "\n",
    "    plt.subplot(122)\n",
    "    plt.scatter(df.y, df.residual)\n",
    "    plt.axhline(y = 0, ls = ':')\n",
    "    plt.xlabel('x')\n",
    "    plt.ylabel('Residual')\n",
    "    plt.title('OLS model residuals');\n",
    "    \n",
    "    \n",
    "    \n",
    "def regression_errors_mine(df):    \n",
    "    SSE = df['residual^2'].sum()\n",
    "    SSE_baseline = df['baseline_residual^2'].sum()\n",
    "    print('SSE =', \"{:.1f}\".format(SSE))\n",
    "    print(\"SSE Baseline =\", \"{:.1f}\".format(SSE_baseline))\n",
    "\n",
    "    #total sum of squares is teh SSE for baseline\n",
    "    TSS = SSE_baseline\n",
    "\n",
    "    # explained sum of squares\n",
    "    ESS = TSS - SSE\n",
    "    print('ESS =', \"{:.1f}\".format(ESS))\n",
    "    \n",
    "    #mean sqr\n",
    "    MSE = SSE/len(df)\n",
    "    MSE_baseline = SSE_baseline/len(df)\n",
    "    print(\"MSE = \", \"{:.1f}\".format(MSE))\n",
    "    print(\"MSE baseline = \", \"{:.1f}\".format(MSE_baseline))\n",
    "    \n",
    "    #root mean sqr\n",
    "    RMSE = sqrt(MSE)\n",
    "    RMSE_baseline =  sqrt(MSE_baseline)\n",
    "    print(\"RMSE = \", \"{:.1f}\".format(RMSE))\n",
    "    print(\"RMSE baseline = \", \"{:.1f}\".format(RMSE_baseline))\n",
    "    return df\n",
    "    \n",
    "\n",
    "def regression_errors(y, yhat):    \n",
    "    baseline = y.mean()\n",
    "    baseline_sq = baseline**2\n",
    "    \n",
    "    residual = y - yhat\n",
    "    residual_sq = residual**2\n",
    "    \n",
    "    SSE = residual_sq.sum()\n",
    "    SSE_baseline = baseline_sq.sum()\n",
    "    print('SSE =', \"{:.1f}\".format(SSE))\n",
    "    print(\"SSE Baseline =\", \"{:.1f}\".format(SSE_baseline))\n",
    "\n",
    "    #total sum of squares is teh SSE for baseline\n",
    "    TSS = SSE_baseline\n",
    "\n",
    "    # explained sum of squares\n",
    "    ESS = TSS - SSE\n",
    "    print('ESS =', \"{:.1f}\".format(ESS))\n",
    "    \n",
    "    #mean sqr\n",
    "    MSE = SSE/len(df)\n",
    "    MSE_baseline = SSE_baseline/len(df)\n",
    "    print(\"MSE = \", \"{:.1f}\".format(MSE))\n",
    "    print(\"MSE baseline = \", \"{:.1f}\".format(MSE_baseline))\n",
    "    \n",
    "    #root mean sqr\n",
    "    RMSE = sqrt(MSE)\n",
    "    RMSE_baseline =  sqrt(MSE_baseline)\n",
    "    print(\"RMSE = \", \"{:.1f}\".format(RMSE))\n",
    "    print(\"RMSE baseline = \", \"{:.1f}\".format(RMSE_baseline))\n",
    "    return df    \n",
    "    \n",
    "    \n",
    "    \n",
    "def baseline_mean_errors(y):       \n",
    "    baseline = y.mean()\n",
    "    baseline_sq = baseline**2\n",
    "    \n",
    "    SSE_baseline = baseline_sq.sum()\n",
    "    print(\"SSE Baseline =\", \"{:.1f}\".format(SSE_baseline))\n",
    "\n",
    "    #mean sqr\n",
    "    MSE_baseline = SSE_baseline/len(df)\n",
    "    print(\"MSE baseline = \", \"{:.1f}\".format(MSE_baseline))\n",
    "    \n",
    "    #root mean sqr\n",
    "    RMSE_baseline =  sqrt(MSE_baseline)\n",
    "    print(\"RMSE baseline = \", \"{:.1f}\".format(RMSE_baseline))\n",
    "    return df    \n",
    "\n",
    "\n",
    "\n",
    "\n",
    "from sklearn.metrics import r2_score\n",
    "\n",
    "def better_than_baseline(y, yhat):\n",
    "    r2_model = r2_score(df.y, df.yhat)\n",
    "    r2_baseline = r2_score(df.y, df.y.mean())\n",
    "    if r2_model > r2_base:\n",
    "        print('Model perfomes better than baseline')\n",
    "    else:\n",
    "        print(\"Baseline performs better than model\")"
   ]
  },
  {
   "cell_type": "code",
   "execution_count": null,
   "id": "8e71e79f",
   "metadata": {},
   "outputs": [],
   "source": []
  },
  {
   "cell_type": "code",
   "execution_count": null,
   "id": "16547425",
   "metadata": {},
   "outputs": [],
   "source": []
  },
  {
   "cell_type": "code",
   "execution_count": null,
   "id": "65e18ae8",
   "metadata": {},
   "outputs": [],
   "source": []
  },
  {
   "cell_type": "code",
   "execution_count": null,
   "id": "c714a11e",
   "metadata": {},
   "outputs": [],
   "source": []
  },
  {
   "cell_type": "code",
   "execution_count": null,
   "id": "5789ce9e",
   "metadata": {},
   "outputs": [],
   "source": []
  },
  {
   "cell_type": "code",
   "execution_count": null,
   "id": "6772e5ad",
   "metadata": {},
   "outputs": [],
   "source": []
  },
  {
   "cell_type": "code",
   "execution_count": null,
   "id": "2a9ee641",
   "metadata": {},
   "outputs": [],
   "source": []
  }
 ],
 "metadata": {
  "kernelspec": {
   "display_name": "Python 3 (ipykernel)",
   "language": "python",
   "name": "python3"
  },
  "language_info": {
   "codemirror_mode": {
    "name": "ipython",
    "version": 3
   },
   "file_extension": ".py",
   "mimetype": "text/x-python",
   "name": "python",
   "nbconvert_exporter": "python",
   "pygments_lexer": "ipython3",
   "version": "3.9.12"
  }
 },
 "nbformat": 4,
 "nbformat_minor": 5
}
