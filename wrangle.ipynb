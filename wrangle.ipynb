{
 "cells": [
  {
   "cell_type": "code",
   "execution_count": 1,
   "id": "85f08ebb",
   "metadata": {},
   "outputs": [],
   "source": [
    "import pandas as pd\n",
    "import env\n"
   ]
  },
  {
   "cell_type": "markdown",
   "id": "89d109ba",
   "metadata": {},
   "source": [
    "new_zillow_data() \\\n",
    "get_zillow_data() \\\n",
    "prep_zillow() \\\n",
    "wrangle_zillow()\n"
   ]
  },
  {
   "cell_type": "markdown",
   "id": "1944a79a",
   "metadata": {},
   "source": [
    "# 1 Acquire:\n",
    "\n",
    "bedroomcnt, bathroomcnt, calculatedfinishedsquarefeet, taxvaluedollarcnt, yearbuilt, taxamount, and fips \n",
    "\n",
    "from the zillow database for all 'Single Family Residential' properties."
   ]
  },
  {
   "cell_type": "code",
   "execution_count": 2,
   "id": "67c45d4e",
   "metadata": {},
   "outputs": [],
   "source": [
    "url = f'mysql+pymysql://{env.user}:{env.password}@{env.host}/zillow'"
   ]
  },
  {
   "cell_type": "code",
   "execution_count": 3,
   "id": "5a93b017",
   "metadata": {},
   "outputs": [],
   "source": [
    "def new_zillow_data():\n",
    "    return pd.read_sql('''SELECT\n",
    "    p.bedroomcnt,\n",
    "    p.bathroomcnt,\n",
    "    p.calculatedfinishedsquarefeet,\n",
    "    p.taxvaluedollarcnt,\n",
    "    p.yearbuilt,\n",
    "    p.taxamount,\n",
    "    p.fips,\n",
    "    t.propertylandusedesc\n",
    "FROM properties_2017 p\n",
    "JOIN propertylandusetype t USING (propertylandusetypeid)\n",
    "WHERE t.propertylandusedesc = 'Single Family Residential'\n",
    "''', url)"
   ]
  },
  {
   "cell_type": "markdown",
   "id": "44c28c78",
   "metadata": {},
   "source": [
    "# 1 Answer"
   ]
  },
  {
   "cell_type": "code",
   "execution_count": 4,
   "id": "23b9b9d1",
   "metadata": {},
   "outputs": [],
   "source": [
    "def new_zillow_data():\n",
    "    return pd.read_sql('''SELECT\n",
    "    p.bedroomcnt,\n",
    "    p.bathroomcnt,\n",
    "    p.calculatedfinishedsquarefeet,\n",
    "    p.taxvaluedollarcnt,\n",
    "    p.yearbuilt,\n",
    "    p.taxamount,\n",
    "    p.fips,\n",
    "    t.propertylandusedesc\n",
    "FROM properties_2017 p\n",
    "JOIN propertylandusetype t USING (propertylandusetypeid)\n",
    "WHERE t.propertylandusedesc = 'Single Family Residential'\n",
    "''', url)\n",
    "\n",
    "\n",
    "import os\n",
    "\n",
    "def get_zillow_data():\n",
    "    filename = \"zillow.csv\"\n",
    "    \n",
    "    # if file is available locally, read it\n",
    "    if os.path.isfile(filename):\n",
    "        return pd.read_csv(filename, index_col = 0)\n",
    "    \n",
    "    # if file not available locally, acquire data from SQL database\n",
    "    # and write it as csv locally for future use\n",
    "    else:\n",
    "        # read the SQL query into a dataframe\n",
    "        df_zillow = new_zillow_data()\n",
    "        \n",
    "        # Write that dataframe to disk for later. Called \"caching\" the data for later.\n",
    "        df_zillow.to_csv(filename)\n",
    "\n",
    "        # Return the dataframe to the calling code\n",
    "        return df_zillow"
   ]
  },
  {
   "cell_type": "code",
   "execution_count": 5,
   "id": "329f932a",
   "metadata": {},
   "outputs": [],
   "source": [
    "df = get_zillow_data()"
   ]
  },
  {
   "cell_type": "markdown",
   "id": "e962f9e7",
   "metadata": {},
   "source": [
    "# 2 Prep\n",
    "\n",
    "Using your acquired Zillow data, walk through the summarization and cleaning steps in your wrangle.ipynb file like we did above. You may handle the missing values however you feel is appropriate and meaninful; remember to document your process and decisions using markdown and code commenting where helpful.\n"
   ]
  },
  {
   "cell_type": "code",
   "execution_count": 6,
   "id": "08789ea1",
   "metadata": {},
   "outputs": [],
   "source": [
    "# df.info()\n",
    "\n",
    "#i checked it here in my original code. \n",
    "#But to prevent it from popping up whenver I import wrangle \n",
    "#I commeted out after verifying it worked"
   ]
  },
  {
   "cell_type": "code",
   "execution_count": 7,
   "id": "7c5e5662",
   "metadata": {},
   "outputs": [
    {
     "data": {
      "text/plain": [
       "(2152863, 8)"
      ]
     },
     "execution_count": 7,
     "metadata": {},
     "output_type": "execute_result"
    }
   ],
   "source": [
    "df.shape"
   ]
  },
  {
   "cell_type": "code",
   "execution_count": 8,
   "id": "e67ba2c9",
   "metadata": {},
   "outputs": [
    {
     "data": {
      "text/html": [
       "<div>\n",
       "<style scoped>\n",
       "    .dataframe tbody tr th:only-of-type {\n",
       "        vertical-align: middle;\n",
       "    }\n",
       "\n",
       "    .dataframe tbody tr th {\n",
       "        vertical-align: top;\n",
       "    }\n",
       "\n",
       "    .dataframe thead th {\n",
       "        text-align: right;\n",
       "    }\n",
       "</style>\n",
       "<table border=\"1\" class=\"dataframe\">\n",
       "  <thead>\n",
       "    <tr style=\"text-align: right;\">\n",
       "      <th></th>\n",
       "      <th>bedroomcnt</th>\n",
       "      <th>bathroomcnt</th>\n",
       "      <th>calculatedfinishedsquarefeet</th>\n",
       "      <th>taxvaluedollarcnt</th>\n",
       "      <th>yearbuilt</th>\n",
       "      <th>taxamount</th>\n",
       "      <th>fips</th>\n",
       "    </tr>\n",
       "  </thead>\n",
       "  <tbody>\n",
       "    <tr>\n",
       "      <th>count</th>\n",
       "      <td>2152852.00</td>\n",
       "      <td>2152852.00</td>\n",
       "      <td>2144379.00</td>\n",
       "      <td>2152370.00</td>\n",
       "      <td>2143526.00</td>\n",
       "      <td>2148421.00</td>\n",
       "      <td>2152863.00</td>\n",
       "    </tr>\n",
       "    <tr>\n",
       "      <th>mean</th>\n",
       "      <td>3.29</td>\n",
       "      <td>2.23</td>\n",
       "      <td>1862.86</td>\n",
       "      <td>461896.24</td>\n",
       "      <td>1960.95</td>\n",
       "      <td>5634.87</td>\n",
       "      <td>6048.38</td>\n",
       "    </tr>\n",
       "    <tr>\n",
       "      <th>std</th>\n",
       "      <td>0.95</td>\n",
       "      <td>1.00</td>\n",
       "      <td>1222.13</td>\n",
       "      <td>699676.05</td>\n",
       "      <td>22.16</td>\n",
       "      <td>8178.91</td>\n",
       "      <td>20.43</td>\n",
       "    </tr>\n",
       "    <tr>\n",
       "      <th>min</th>\n",
       "      <td>0.00</td>\n",
       "      <td>0.00</td>\n",
       "      <td>1.00</td>\n",
       "      <td>1.00</td>\n",
       "      <td>1801.00</td>\n",
       "      <td>1.85</td>\n",
       "      <td>6037.00</td>\n",
       "    </tr>\n",
       "    <tr>\n",
       "      <th>25%</th>\n",
       "      <td>3.00</td>\n",
       "      <td>2.00</td>\n",
       "      <td>1257.00</td>\n",
       "      <td>188170.25</td>\n",
       "      <td>1949.00</td>\n",
       "      <td>2534.98</td>\n",
       "      <td>6037.00</td>\n",
       "    </tr>\n",
       "    <tr>\n",
       "      <th>50%</th>\n",
       "      <td>3.00</td>\n",
       "      <td>2.00</td>\n",
       "      <td>1623.00</td>\n",
       "      <td>327671.00</td>\n",
       "      <td>1958.00</td>\n",
       "      <td>4108.95</td>\n",
       "      <td>6037.00</td>\n",
       "    </tr>\n",
       "    <tr>\n",
       "      <th>75%</th>\n",
       "      <td>4.00</td>\n",
       "      <td>3.00</td>\n",
       "      <td>2208.00</td>\n",
       "      <td>534527.00</td>\n",
       "      <td>1976.00</td>\n",
       "      <td>6414.32</td>\n",
       "      <td>6059.00</td>\n",
       "    </tr>\n",
       "    <tr>\n",
       "      <th>max</th>\n",
       "      <td>25.00</td>\n",
       "      <td>32.00</td>\n",
       "      <td>952576.00</td>\n",
       "      <td>98428909.00</td>\n",
       "      <td>2016.00</td>\n",
       "      <td>1337755.86</td>\n",
       "      <td>6111.00</td>\n",
       "    </tr>\n",
       "  </tbody>\n",
       "</table>\n",
       "</div>"
      ],
      "text/plain": [
       "       bedroomcnt  bathroomcnt  calculatedfinishedsquarefeet  \\\n",
       "count  2152852.00   2152852.00                    2144379.00   \n",
       "mean         3.29         2.23                       1862.86   \n",
       "std          0.95         1.00                       1222.13   \n",
       "min          0.00         0.00                          1.00   \n",
       "25%          3.00         2.00                       1257.00   \n",
       "50%          3.00         2.00                       1623.00   \n",
       "75%          4.00         3.00                       2208.00   \n",
       "max         25.00        32.00                     952576.00   \n",
       "\n",
       "       taxvaluedollarcnt   yearbuilt   taxamount        fips  \n",
       "count         2152370.00  2143526.00  2148421.00  2152863.00  \n",
       "mean           461896.24     1960.95     5634.87     6048.38  \n",
       "std            699676.05       22.16     8178.91       20.43  \n",
       "min                 1.00     1801.00        1.85     6037.00  \n",
       "25%            188170.25     1949.00     2534.98     6037.00  \n",
       "50%            327671.00     1958.00     4108.95     6037.00  \n",
       "75%            534527.00     1976.00     6414.32     6059.00  \n",
       "max          98428909.00     2016.00  1337755.86     6111.00  "
      ]
     },
     "execution_count": 8,
     "metadata": {},
     "output_type": "execute_result"
    }
   ],
   "source": [
    "df.describe().round(2)"
   ]
  },
  {
   "cell_type": "code",
   "execution_count": 9,
   "id": "f1dbca84",
   "metadata": {},
   "outputs": [
    {
     "data": {
      "text/plain": [
       "bedroomcnt                        11\n",
       "bathroomcnt                       11\n",
       "calculatedfinishedsquarefeet    8484\n",
       "taxvaluedollarcnt                493\n",
       "yearbuilt                       9337\n",
       "taxamount                       4442\n",
       "fips                               0\n",
       "propertylandusedesc                0\n",
       "dtype: int64"
      ]
     },
     "execution_count": 9,
     "metadata": {},
     "output_type": "execute_result"
    }
   ],
   "source": [
    "df.isnull().sum()"
   ]
  },
  {
   "cell_type": "code",
   "execution_count": 10,
   "id": "1160ebdc",
   "metadata": {},
   "outputs": [],
   "source": [
    "df_drop = df"
   ]
  },
  {
   "cell_type": "code",
   "execution_count": 11,
   "id": "280b8a03",
   "metadata": {},
   "outputs": [
    {
     "data": {
      "text/plain": [
       "(2152863, 8)"
      ]
     },
     "execution_count": 11,
     "metadata": {},
     "output_type": "execute_result"
    }
   ],
   "source": [
    "df_drop.shape"
   ]
  },
  {
   "cell_type": "code",
   "execution_count": 12,
   "id": "194e17e7",
   "metadata": {},
   "outputs": [],
   "source": [
    "df_drop.dropna(subset=['yearbuilt'], inplace = True)"
   ]
  },
  {
   "cell_type": "code",
   "execution_count": 13,
   "id": "713fc42b",
   "metadata": {},
   "outputs": [],
   "source": [
    "df_drop.dropna(subset=['taxamount'], inplace = True)"
   ]
  },
  {
   "cell_type": "code",
   "execution_count": 14,
   "id": "3a39dc9d",
   "metadata": {},
   "outputs": [],
   "source": [
    "df_drop.dropna(subset=['calculatedfinishedsquarefeet'], inplace = True)"
   ]
  },
  {
   "cell_type": "code",
   "execution_count": 15,
   "id": "61bc1a3d",
   "metadata": {
    "scrolled": false
   },
   "outputs": [
    {
     "data": {
      "text/plain": [
       "bedroomcnt                       0\n",
       "bathroomcnt                      0\n",
       "calculatedfinishedsquarefeet     0\n",
       "taxvaluedollarcnt               18\n",
       "yearbuilt                        0\n",
       "taxamount                        0\n",
       "fips                             0\n",
       "propertylandusedesc              0\n",
       "dtype: int64"
      ]
     },
     "execution_count": 15,
     "metadata": {},
     "output_type": "execute_result"
    }
   ],
   "source": [
    "df_drop.isnull().sum()"
   ]
  },
  {
   "cell_type": "code",
   "execution_count": 16,
   "id": "61a4d338",
   "metadata": {},
   "outputs": [],
   "source": [
    "df_drop.dropna(subset=['taxvaluedollarcnt'], inplace = True)"
   ]
  },
  {
   "cell_type": "code",
   "execution_count": 17,
   "id": "541ac086",
   "metadata": {
    "scrolled": true
   },
   "outputs": [
    {
     "data": {
      "text/plain": [
       "(2140235, 8)"
      ]
     },
     "execution_count": 17,
     "metadata": {},
     "output_type": "execute_result"
    }
   ],
   "source": [
    "df.shape"
   ]
  },
  {
   "cell_type": "code",
   "execution_count": 18,
   "id": "5d65cb5f",
   "metadata": {},
   "outputs": [
    {
     "data": {
      "text/plain": [
       "bedroomcnt                      0\n",
       "bathroomcnt                     0\n",
       "calculatedfinishedsquarefeet    0\n",
       "taxvaluedollarcnt               0\n",
       "yearbuilt                       0\n",
       "taxamount                       0\n",
       "fips                            0\n",
       "propertylandusedesc             0\n",
       "dtype: int64"
      ]
     },
     "execution_count": 18,
     "metadata": {},
     "output_type": "execute_result"
    }
   ],
   "source": [
    "df_drop.isnull().sum()"
   ]
  },
  {
   "cell_type": "code",
   "execution_count": 19,
   "id": "06423ae1",
   "metadata": {},
   "outputs": [
    {
     "data": {
      "text/plain": [
       "(2140235, 8)"
      ]
     },
     "execution_count": 19,
     "metadata": {},
     "output_type": "execute_result"
    }
   ],
   "source": [
    "df_drop.shape"
   ]
  },
  {
   "cell_type": "code",
   "execution_count": 20,
   "id": "ce72d732",
   "metadata": {},
   "outputs": [],
   "source": [
    "# if I drop all the null values:\n",
    "dropped = 9337 +2708 +565 +18\n"
   ]
  },
  {
   "cell_type": "code",
   "execution_count": 21,
   "id": "357db314",
   "metadata": {},
   "outputs": [
    {
     "data": {
      "text/plain": [
       "0.005900286650764986"
      ]
     },
     "execution_count": 21,
     "metadata": {},
     "output_type": "execute_result"
    }
   ],
   "source": [
    "dropped/df.shape[0]"
   ]
  },
  {
   "cell_type": "code",
   "execution_count": 22,
   "id": "65273964",
   "metadata": {},
   "outputs": [],
   "source": [
    "# i lose ~0.6% of the data\n",
    "\n",
    "#i'm okay with that"
   ]
  },
  {
   "cell_type": "code",
   "execution_count": 23,
   "id": "4bd50eae",
   "metadata": {},
   "outputs": [
    {
     "data": {
      "text/plain": [
       "(2140235, 8)"
      ]
     },
     "execution_count": 23,
     "metadata": {},
     "output_type": "execute_result"
    }
   ],
   "source": [
    "\n",
    "df.shape"
   ]
  },
  {
   "cell_type": "code",
   "execution_count": 24,
   "id": "ef16c679",
   "metadata": {},
   "outputs": [],
   "source": [
    "df.dropna(inplace = True)"
   ]
  },
  {
   "cell_type": "code",
   "execution_count": 25,
   "id": "b0cc327c",
   "metadata": {},
   "outputs": [
    {
     "data": {
      "text/plain": [
       "(2140235, 8)"
      ]
     },
     "execution_count": 25,
     "metadata": {},
     "output_type": "execute_result"
    }
   ],
   "source": [
    "df.shape"
   ]
  },
  {
   "cell_type": "code",
   "execution_count": null,
   "id": "ae354003",
   "metadata": {},
   "outputs": [],
   "source": []
  },
  {
   "cell_type": "markdown",
   "id": "8fb5838c",
   "metadata": {},
   "source": [
    "# 2 Answer"
   ]
  },
  {
   "cell_type": "code",
   "execution_count": 33,
   "id": "5dd37cbe",
   "metadata": {},
   "outputs": [],
   "source": [
    "def prep_zillow(df):\n",
    "    #drop nulls\n",
    "    df.dropna(inplace = True) #lose 0.59% of data\n",
    "    \n",
    "    #drop extra columns-this column is teh single family residence filter\n",
    "    df = df.drop(columns = 'propertylandusedesc')\n",
    "    \n",
    "    #deal with outliers\n",
    "    df = df[df.bathroomcnt < 7]\n",
    "    df = df[df.bedroomcnt < 7]\n",
    "    df = df[df.taxamount < 25_000]\n",
    "    df = df[df.calculatedfinishedsquarefeet < 20_000] \n",
    "    #total data loss from nulls and outliers: 3.2%\n",
    "    return"
   ]
  },
  {
   "cell_type": "code",
   "execution_count": null,
   "id": "a8b913d4",
   "metadata": {},
   "outputs": [],
   "source": []
  },
  {
   "cell_type": "code",
   "execution_count": null,
   "id": "d05cb436",
   "metadata": {},
   "outputs": [],
   "source": [
    "#from class"
   ]
  },
  {
   "cell_type": "code",
   "execution_count": null,
   "id": "73b19e7e",
   "metadata": {},
   "outputs": [],
   "source": [
    "#df = new_zillow_data();"
   ]
  },
  {
   "cell_type": "code",
   "execution_count": 31,
   "id": "6ba26a24",
   "metadata": {},
   "outputs": [
    {
     "data": {
      "text/html": [
       "<div>\n",
       "<style scoped>\n",
       "    .dataframe tbody tr th:only-of-type {\n",
       "        vertical-align: middle;\n",
       "    }\n",
       "\n",
       "    .dataframe tbody tr th {\n",
       "        vertical-align: top;\n",
       "    }\n",
       "\n",
       "    .dataframe thead th {\n",
       "        text-align: right;\n",
       "    }\n",
       "</style>\n",
       "<table border=\"1\" class=\"dataframe\">\n",
       "  <thead>\n",
       "    <tr style=\"text-align: right;\">\n",
       "      <th></th>\n",
       "      <th>bedroomcnt</th>\n",
       "      <th>bathroomcnt</th>\n",
       "      <th>calculatedfinishedsquarefeet</th>\n",
       "      <th>taxvaluedollarcnt</th>\n",
       "      <th>yearbuilt</th>\n",
       "      <th>taxamount</th>\n",
       "      <th>fips</th>\n",
       "      <th>propertylandusedesc</th>\n",
       "    </tr>\n",
       "  </thead>\n",
       "  <tbody>\n",
       "  </tbody>\n",
       "</table>\n",
       "</div>"
      ],
      "text/plain": [
       "Empty DataFrame\n",
       "Columns: [bedroomcnt, bathroomcnt, calculatedfinishedsquarefeet, taxvaluedollarcnt, yearbuilt, taxamount, fips, propertylandusedesc]\n",
       "Index: []"
      ]
     },
     "execution_count": 31,
     "metadata": {},
     "output_type": "execute_result"
    }
   ],
   "source": [
    "df[df.isna().any(axis=1)]"
   ]
  },
  {
   "cell_type": "code",
   "execution_count": null,
   "id": "d947051a",
   "metadata": {},
   "outputs": [],
   "source": [
    "# What's the percentage of nulls?\n",
    "df.isna().mean()"
   ]
  },
  {
   "cell_type": "code",
   "execution_count": null,
   "id": "51f65385",
   "metadata": {},
   "outputs": [],
   "source": [
    "#see wrangle explore for how to address outliers. didn't want all those graphs to show up when I imported wrangle.py\n",
    "\n"
   ]
  },
  {
   "cell_type": "code",
   "execution_count": null,
   "id": "b19b7b47",
   "metadata": {},
   "outputs": [],
   "source": [
    "# address outliers"
   ]
  },
  {
   "cell_type": "code",
   "execution_count": null,
   "id": "8f74338a",
   "metadata": {},
   "outputs": [],
   "source": [
    "df.columns.tolist()"
   ]
  },
  {
   "cell_type": "code",
   "execution_count": null,
   "id": "d2ce4626",
   "metadata": {},
   "outputs": [],
   "source": [
    "for column in df.columns:\n",
    "    print(column)\n",
    "    print(df[column].value_counts())\n",
    "    print(\"-----------------\")"
   ]
  },
  {
   "cell_type": "code",
   "execution_count": null,
   "id": "0e761898",
   "metadata": {},
   "outputs": [],
   "source": []
  },
  {
   "cell_type": "code",
   "execution_count": null,
   "id": "405e205c",
   "metadata": {},
   "outputs": [],
   "source": []
  },
  {
   "cell_type": "code",
   "execution_count": null,
   "id": "6679eb12",
   "metadata": {},
   "outputs": [],
   "source": []
  },
  {
   "cell_type": "code",
   "execution_count": null,
   "id": "d7ac8daf",
   "metadata": {},
   "outputs": [],
   "source": []
  },
  {
   "cell_type": "code",
   "execution_count": null,
   "id": "bb57b591",
   "metadata": {},
   "outputs": [],
   "source": []
  },
  {
   "cell_type": "code",
   "execution_count": null,
   "id": "0c4c13c4",
   "metadata": {},
   "outputs": [],
   "source": []
  },
  {
   "cell_type": "code",
   "execution_count": null,
   "id": "1458fc35",
   "metadata": {},
   "outputs": [],
   "source": []
  },
  {
   "cell_type": "code",
   "execution_count": null,
   "id": "f2d8b0c7",
   "metadata": {},
   "outputs": [],
   "source": []
  },
  {
   "cell_type": "code",
   "execution_count": null,
   "id": "9c8816b3",
   "metadata": {},
   "outputs": [],
   "source": []
  },
  {
   "cell_type": "code",
   "execution_count": null,
   "id": "1d389585",
   "metadata": {},
   "outputs": [],
   "source": []
  },
  {
   "cell_type": "markdown",
   "id": "27924486",
   "metadata": {},
   "source": [
    "# 3 \n",
    "Store all of the necessary functions to automate your process from acquiring the data to returning a cleaned dataframe witn no missing values in your wrangle.py file. Name your final function wrangle_zillow."
   ]
  },
  {
   "cell_type": "code",
   "execution_count": 34,
   "id": "30f99ca0",
   "metadata": {},
   "outputs": [],
   "source": [
    "def wrangle_zillow():\n",
    "    df = get_zillow_data()\n",
    "    prep_zillow(df)\n",
    "    return df"
   ]
  },
  {
   "cell_type": "code",
   "execution_count": 35,
   "id": "380b610d",
   "metadata": {},
   "outputs": [],
   "source": [
    "df = wrangle_zillow()"
   ]
  },
  {
   "cell_type": "code",
   "execution_count": null,
   "id": "7f9a1e77",
   "metadata": {},
   "outputs": [],
   "source": []
  },
  {
   "cell_type": "code",
   "execution_count": null,
   "id": "eca155c8",
   "metadata": {},
   "outputs": [],
   "source": []
  },
  {
   "cell_type": "code",
   "execution_count": null,
   "id": "f5c50b22",
   "metadata": {},
   "outputs": [],
   "source": []
  },
  {
   "cell_type": "code",
   "execution_count": null,
   "id": "e98af85b",
   "metadata": {},
   "outputs": [],
   "source": []
  },
  {
   "cell_type": "code",
   "execution_count": null,
   "id": "ce81960b",
   "metadata": {},
   "outputs": [],
   "source": []
  },
  {
   "cell_type": "code",
   "execution_count": null,
   "id": "12d79f2a",
   "metadata": {},
   "outputs": [],
   "source": []
  },
  {
   "cell_type": "code",
   "execution_count": null,
   "id": "f6672ece",
   "metadata": {},
   "outputs": [],
   "source": []
  },
  {
   "cell_type": "code",
   "execution_count": null,
   "id": "1fa35e6c",
   "metadata": {},
   "outputs": [],
   "source": []
  }
 ],
 "metadata": {
  "kernelspec": {
   "display_name": "Python 3 (ipykernel)",
   "language": "python",
   "name": "python3"
  },
  "language_info": {
   "codemirror_mode": {
    "name": "ipython",
    "version": 3
   },
   "file_extension": ".py",
   "mimetype": "text/x-python",
   "name": "python",
   "nbconvert_exporter": "python",
   "pygments_lexer": "ipython3",
   "version": "3.9.12"
  }
 },
 "nbformat": 4,
 "nbformat_minor": 5
}
